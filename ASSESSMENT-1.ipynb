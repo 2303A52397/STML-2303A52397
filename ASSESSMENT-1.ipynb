{
  "nbformat": 4,
  "nbformat_minor": 0,
  "metadata": {
    "colab": {
      "provenance": [],
      "authorship_tag": "ABX9TyOwnnfSIXoy3cNgKOxBeT2L",
      "include_colab_link": true
    },
    "kernelspec": {
      "name": "python3",
      "display_name": "Python 3"
    },
    "language_info": {
      "name": "python"
    }
  },
  "cells": [
    {
      "cell_type": "markdown",
      "metadata": {
        "id": "view-in-github",
        "colab_type": "text"
      },
      "source": [
        "<a href=\"https://colab.research.google.com/github/2303A52397/STML-2303A52397/blob/main/ASSESSMENT-1.ipynb\" target=\"_parent\"><img src=\"https://colab.research.google.com/assets/colab-badge.svg\" alt=\"Open In Colab\"/></a>"
      ]
    },
    {
      "cell_type": "code",
      "execution_count": null,
      "metadata": {
        "colab": {
          "base_uri": "https://localhost:8080/",
          "height": 430
        },
        "id": "z1rpwHWENCUM",
        "outputId": "6fbadc58-8f3e-40d5-db22-8c4b9bfc5fe9"
      },
      "outputs": [
        {
          "output_type": "display_data",
          "data": {
            "text/plain": [
              "<Figure size 640x480 with 1 Axes>"
            ],
            "image/png": "[encoded data removed]"
          },
          "metadata": {}
        }
      ],
      "source": [
        "import matplotlib.pyplot as plt\n",
        "import numpy as np\n",
        "\n",
        "x = np.array([2.3,2.5,3.6,2.8,3.1,2.9,3.2,2.7,2.8,3.0])\n",
        "bins = 5\n",
        "plt.hist(x,bins,color='black')\n",
        "plt.show()"
      ]
    },
    {
      "cell_type": "code",
      "source": [
        "import numpy as np\n",
        "import pandas as pd\n",
        "import scipy as sc\n",
        "import statistics as stat\n",
        "from scipy.stats import skew\n",
        "from scipy.stats import kurtosis\n",
        "from scipy.stats import iqr\n",
        "dependent_var = np.array([4,5,8,2,4,2,5])\n",
        "independent_var = np.array([5,6,3,8,3,7,8])"
      ],
      "metadata": {
        "id": "MQuShYfCNPIR"
      },
      "execution_count": null,
      "outputs": []
    },
    {
      "cell_type": "code",
      "source": [
        "print(\"Mean value of dependent_var\")\n",
        "print(np.mean(dependent_var))\n",
        "print(\"Mean value of independent_var\" )\n",
        "print(np.mean(independent_var))\n",
        "print(\"Mean value of dependent var+independent_var\" )\n",
        "print(np.mean(dependent_var+independent_var))"
      ],
      "metadata": {
        "colab": {
          "base_uri": "https://localhost:8080/"
        },
        "id": "ChXF9E4jNVLn",
        "outputId": "3a013c4c-1b48-469a-a5f6-5e5a94a04448"
      },
      "execution_count": null,
      "outputs": [
        {
          "output_type": "stream",
          "name": "stdout",
          "text": [
            "Mean value of dependent_var\n",
            "4.285714285714286\n",
            "Mean value of independent_var\n",
            "5.714285714285714\n",
            "Mean value of dependent var+independent_var\n",
            "10.0\n"
          ]
        }
      ]
    },
    {
      "cell_type": "code",
      "source": [
        "print(\"Median value of dependent_var\")\n",
        "print(np.median(dependent_var))\n",
        "print(\"Median value of independent_var\")\n",
        "print(np.median(independent_var))\n",
        "print(\"Median value of dependent_var+independent_var\")\n",
        "print(np.median(dependent_var+independent_var))"
      ],
      "metadata": {
        "colab": {
          "base_uri": "https://localhost:8080/"
        },
        "id": "bcrsIbDXNbT8",
        "outputId": "adb702e6-7df1-4d16-d0d3-11567f218942"
      },
      "execution_count": null,
      "outputs": [
        {
          "output_type": "stream",
          "name": "stdout",
          "text": [
            "Median value of dependent_var\n",
            "4.0\n",
            "Median value of independent_var\n",
            "6.0\n",
            "Median value of dependent_var+independent_var\n",
            "10.0\n"
          ]
        }
      ]
    },
    {
      "cell_type": "code",
      "source": [
        "def find_mode(arr):\n",
        " counts = np.bincount(arr)\n",
        " mode = np.argmax(counts)\n",
        " return mode\n",
        "mode_dependent = find_mode(dependent_var)\n",
        "mode_independent = find_mode(independent_var)\n",
        "print(\"Mode for dependent_var:\",mode_dependent)\n",
        "print(\"Mode for independent_var:\",mode_independent)\n",
        "print(\"Mode for dependent_var+independent_var:\",mode_dependent+mode_independent)"
      ],
      "metadata": {
        "colab": {
          "base_uri": "https://localhost:8080/"
        },
        "id": "fEssHeMMNiTw",
        "outputId": "795de070-7df4-4968-ef54-ef34beed43ea"
      },
      "execution_count": null,
      "outputs": [
        {
          "output_type": "stream",
          "name": "stdout",
          "text": [
            "Mode for dependent_var: 2\n",
            "Mode for independent_var: 3\n",
            "Mode for dependent_var+independent_var: 5\n"
          ]
        }
      ]
    },
    {
      "cell_type": "code",
      "source": [
        "print(\"Variance of dependent_var:\")\n",
        "print(np.var(dependent_var))\n",
        "print(\"Variance of independent_var:\")\n",
        "print(np.var(independent_var))\n",
        "print(\"Variance of dependent_var+independent_var:\")\n",
        "print(np.var(dependent_var+independent_var))"
      ],
      "metadata": {
        "colab": {
          "base_uri": "https://localhost:8080/"
        },
        "id": "QCLCc5-ENq0u",
        "outputId": "f3ce9565-f556-498c-9acc-134999c4c406"
      },
      "execution_count": null,
      "outputs": [
        {
          "output_type": "stream",
          "name": "stdout",
          "text": [
            "Variance of dependent_var:\n",
            "3.6326530612244894\n",
            "Variance of independent_var:\n",
            "3.918367346938776\n",
            "Variance of dependent_var+independent_var:\n",
            "3.142857142857143\n"
          ]
        }
      ]
    },
    {
      "cell_type": "code",
      "source": [
        "print(\"Standard Deviation of dependent_var:\")\n",
        "print(np.std(dependent_var))\n",
        "print(\"Standard Deviation of independent_var:\")\n",
        "print(np.std(independent_var))\n",
        "print(\"Standard Deviation of dependent_var+independent_var:\")\n",
        "print(np.std(dependent_var+independent_var))"
      ],
      "metadata": {
        "colab": {
          "base_uri": "https://localhost:8080/"
        },
        "id": "_3M5OHa6Nwif",
        "outputId": "b905a4fe-00d0-424f-fa2c-492c1760af39"
      },
      "execution_count": null,
      "outputs": [
        {
          "output_type": "stream",
          "name": "stdout",
          "text": [
            "Standard Deviation of dependent_var:\n",
            "1.9059520091609048\n",
            "Standard Deviation of independent_var:\n",
            "1.979486637221574\n",
            "Standard Deviation of dependent_var+independent_var:\n",
            "1.7728105208558367\n"
          ]
        }
      ]
    },
    {
      "cell_type": "code",
      "source": [
        "print(\"Range of dependent_var:\")\n",
        "print(np.max(dependent_var)-np.min(dependent_var))\n",
        "print(\"Range of independent_var:\")\n",
        "print(np.max(independent_var)-np.min(independent_var))\n",
        "print(\"Range of dependent_var+independent_var:\")\n",
        "print(np.max(dependent_var+independent_var)-np.\n",
        " min(dependent_var+independent_var))"
      ],
      "metadata": {
        "colab": {
          "base_uri": "https://localhost:8080/"
        },
        "id": "ePXC4w5WN1Mn",
        "outputId": "4fc701fe-25e5-4de5-b0af-414f7688d842"
      },
      "execution_count": null,
      "outputs": [
        {
          "output_type": "stream",
          "name": "stdout",
          "text": [
            "Range of dependent_var:\n",
            "6\n",
            "Range of independent_var:\n",
            "5\n",
            "Range of dependent_var+independent_var:\n",
            "6\n"
          ]
        }
      ]
    },
    {
      "cell_type": "code",
      "source": [
        "print(\"IQR of dependent_var:\")\n",
        "print(iqr(dependent_var))\n",
        "print(\"IQR of independent_var:\")\n",
        "print(iqr(independent_var))\n",
        "print(\"IQR of dependent_var+independent_var:\")\n",
        "print(iqr(dependent_var+independent_var))"
      ],
      "metadata": {
        "colab": {
          "base_uri": "https://localhost:8080/"
        },
        "id": "-dp58yCWN9wN",
        "outputId": "943b34a1-a4f7-44a6-943e-121149f733e4"
      },
      "execution_count": null,
      "outputs": [
        {
          "output_type": "stream",
          "name": "stdout",
          "text": [
            "IQR of dependent_var:\n",
            "2.0\n",
            "IQR of independent_var:\n",
            "3.5\n",
            "IQR of dependent_var+independent_var:\n",
            "2.0\n"
          ]
        }
      ]
    },
    {
      "cell_type": "code",
      "source": [
        "\n",
        "print(\"Skewness of the dependent_var:\",skew(dependent_var,axis=0,bias=True))\n",
        "print(\"Skewness of the independent_var:\",skew(independent_var,axis=0,bias=True))\n",
        "print(\"Skewness of the dependent_var+independent_var:\",skew(dependent_var+independent_var,axis=0,bias=True))"
      ],
      "metadata": {
        "colab": {
          "base_uri": "https://localhost:8080/"
        },
        "id": "RxVxgq9SOCz8",
        "outputId": "ba829912-96dd-4a4f-e7f6-d0f3c050bd5a"
      },
      "execution_count": null,
      "outputs": [
        {
          "output_type": "stream",
          "name": "stdout",
          "text": [
            "Skewness of the dependent_var: 0.5785710902698393\n",
            "Skewness of the independent_var: -0.26386711521557127\n",
            "Skewness of the dependent_var+independent_var: 0.0\n"
          ]
        }
      ]
    },
    {
      "cell_type": "code",
      "source": [
        "print(\"Kurtosis of the dependent_var:\",kurtosis(dependent_var,axis=0,bias=True))\n",
        "print(\"Kurtosis of the independent_var:\",kurtosis(independent_var,axis=0,bias=True))\n",
        "print(\"Kurtosis of the dependent_var+independent_var:\",kurtosis(dependent_var+independent_var,axis=0,bias=True))"
      ],
      "metadata": {
        "colab": {
          "base_uri": "https://localhost:8080/"
        },
        "id": "wS-ueH2xOTxq",
        "outputId": "51c7fd48-9954-4c12-c627-6718f0092962"
      },
      "execution_count": null,
      "outputs": [
        {
          "output_type": "stream",
          "name": "stdout",
          "text": [
            "Kurtosis of the dependent_var: -0.34282287589950755\n",
            "Kurtosis of the independent_var: -1.4541015625000002\n",
            "Kurtosis of the dependent_var+independent_var: -0.5991735537190079\n"
          ]
        }
      ]
    },
    {
      "cell_type": "code",
      "source": [
        "d =pd.read_csv(\"/content/sample_data/california_housing_test.csv\")\n",
        "print(d)"
      ],
      "metadata": {
        "colab": {
          "base_uri": "https://localhost:8080/"
        },
        "id": "8GLGDXelOePy",
        "outputId": "6df97122-5d4f-430a-b2d2-cc5675506347"
      },
      "execution_count": null,
      "outputs": [
        {
          "output_type": "stream",
          "name": "stdout",
          "text": [
            "      longitude  latitude  housing_median_age  total_rooms  total_bedrooms  \\\n",
            "0       -122.05     37.37                27.0       3885.0           661.0   \n",
            "1       -118.30     34.26                43.0       1510.0           310.0   \n",
            "2       -117.81     33.78                27.0       3589.0           507.0   \n",
            "3       -118.36     33.82                28.0         67.0            15.0   \n",
            "4       -119.67     36.33                19.0       1241.0           244.0   \n",
            "...         ...       ...                 ...          ...             ...   \n",
            "2995    -119.86     34.42                23.0       1450.0           642.0   \n",
            "2996    -118.14     34.06                27.0       5257.0          1082.0   \n",
            "2997    -119.70     36.30                10.0        956.0           201.0   \n",
            "2998    -117.12     34.10                40.0         96.0            14.0   \n",
            "2999    -119.63     34.42                42.0       1765.0           263.0   \n",
            "\n",
            "      population  households  median_income  median_house_value  \n",
            "0         1537.0       606.0         6.6085            344700.0  \n",
            "1          809.0       277.0         3.5990            176500.0  \n",
            "2         1484.0       495.0         5.7934            270500.0  \n",
            "3           49.0        11.0         6.1359            330000.0  \n",
            "4          850.0       237.0         2.9375             81700.0  \n",
            "...          ...         ...            ...                 ...  \n",
            "2995      1258.0       607.0         1.1790            225000.0  \n",
            "2996      3496.0      1036.0         3.3906            237200.0  \n",
            "2997       693.0       220.0         2.2895             62000.0  \n",
            "2998        46.0        14.0         3.2708            162500.0  \n",
            "2999       753.0       260.0         8.5608            500001.0  \n",
            "\n",
            "[3000 rows x 9 columns]\n"
          ]
        }
      ]
    },
    {
      "cell_type": "code",
      "source": [
        "print(\"MeanValue oflongitude\")\n",
        "print(np.mean(d['longitude']))\n",
        "print(\"MeanValue oflatitude\")\n",
        "print(np.mean(d['latitude']))\n",
        "print(\"MeanValue ofhousing_median_age\")\n",
        "print(np.mean(d['housing_median_age']))\n",
        "print(\"MeanValue oftotal_rooms\")\n",
        "print(np.mean(d['total_rooms']))\n",
        "print(\"MeanValue oftotal_bedrooms\")\n",
        "print(np.mean(d['total_bedrooms']))\n",
        "print(\"Mean Value of population\")\n",
        "print(np.mean(d['population']))\n",
        "print(\"Mean Value of households\")\n",
        "print(np.mean(d['households']))\n",
        "print(\"Mean Value of median_income\")\n",
        "print(np.mean(d['median_income']))\n",
        "print(\"Mean Value of median_house_value\")\n",
        "print(np.mean(d['median_house_value']))"
      ],
      "metadata": {
        "colab": {
          "base_uri": "https://localhost:8080/"
        },
        "id": "Ow5OuHd0Oo4X",
        "outputId": "b8e4d220-edf9-49cd-f35c-6dfd016ba07d"
      },
      "execution_count": null,
      "outputs": [
        {
          "output_type": "stream",
          "name": "stdout",
          "text": [
            "MeanValue oflongitude\n",
            "-119.58919999999999\n",
            "MeanValue oflatitude\n",
            "35.635389999999994\n",
            "MeanValue ofhousing_median_age\n",
            "28.845333333333333\n",
            "MeanValue oftotal_rooms\n",
            "2599.578666666667\n",
            "MeanValue oftotal_bedrooms\n",
            "529.9506666666666\n",
            "Mean Value of population\n",
            "1402.7986666666666\n",
            "Mean Value of households\n",
            "489.912\n",
            "Mean Value of median_income\n",
            "3.8072717999999997\n",
            "Mean Value of median_house_value\n",
            "205846.275\n"
          ]
        }
      ]
    },
    {
      "cell_type": "code",
      "source": [
        "print(\"Median Value of longitude\")\n",
        "print(np.median(d['longitude']))\n",
        "print(\"Median Value of latitude\")\n",
        "print(np.median(d['latitude']))\n",
        "print(\"Median Value of housing_median_age\")\n",
        "print(np.median(d['housing_median_age']))\n",
        "print(\"Median Value of total_rooms\")\n",
        "print(np.median(d['total_rooms']))\n",
        "print(\"Median Value of total_bedrooms\")\n",
        "print(np.median(d['total_bedrooms']))\n",
        "print(\"Median Value of population\")\n",
        "print(np.median(d['population']))\n",
        "print(\"Median Value of households\")\n",
        "print(np.median(d['households']))\n",
        "print(\"Median Value of median_income\")\n",
        "print(np.median(d['median_income']))\n",
        "print(\"Median Value of median_house_value\")\n",
        "print(np.median(d['median_house_value']))"
      ],
      "metadata": {
        "colab": {
          "base_uri": "https://localhost:8080/"
        },
        "id": "LQ1brqUfOue3",
        "outputId": "27c34ef4-bba7-4d20-9ac7-915b5638ddd2"
      },
      "execution_count": null,
      "outputs": [
        {
          "output_type": "stream",
          "name": "stdout",
          "text": [
            "Median Value of longitude\n",
            "-118.485\n",
            "Median Value of latitude\n",
            "34.27\n",
            "Median Value of housing_median_age\n",
            "29.0\n",
            "Median Value of total_rooms\n",
            "2106.0\n",
            "Median Value of total_bedrooms\n",
            "437.0\n",
            "Median Value of population\n",
            "1155.0\n",
            "Median Value of households\n",
            "409.5\n",
            "Median Value of median_income\n",
            "3.4871499999999997\n",
            "Median Value of median_house_value\n",
            "177650.0\n"
          ]
        }
      ]
    },
    {
      "cell_type": "code",
      "source": [
        "print(\"Mode Value of longitude\")\n",
        "print(d['longitude'].mode())\n",
        "print(\"\")\n",
        "print(\"Mode Value of latitude\")\n",
        "print(d['latitude'].mode())\n",
        "print(\"\")\n",
        "print(\"Mode Value of housing_median_age\")\n",
        "print(d['housing_median_age'].mode())\n",
        "print(\"\")\n",
        "print(\"Mode Value of total_rooms\")\n",
        "print(d['total_rooms'].mode())\n",
        "print(\"\")\n",
        "print(\"Mode Value of total_bedrooms\")\n",
        "print(d['total_bedrooms'].mode())\n",
        "print(\"\")\n",
        "print(\"Mode Value of population\")\n",
        "print(d['population'].mode())\n",
        "print(\"\")\n",
        "print(\"Mode Value of households\")\n",
        "print(d['households'].mode())\n",
        "print(\"\")\n",
        "print(\"Mode Value of median_income\")\n",
        "print(d['median_income'].mode())\n",
        "print(\"\")\n",
        "print(\"Mode Value of median_house_value\")\n",
        "print(d['median_house_value'].mode())\n"
      ],
      "metadata": {
        "colab": {
          "base_uri": "https://localhost:8080/"
        },
        "id": "27L3ehKjO0Ip",
        "outputId": "79e7f8ec-5a87-428f-ea69-5369aa9a4acc"
      },
      "execution_count": null,
      "outputs": [
        {
          "output_type": "stream",
          "name": "stdout",
          "text": [
            "Mode Value of longitude\n",
            "0   -118.26\n",
            "1   -118.21\n",
            "Name: longitude, dtype: float64\n",
            "\n",
            "Mode Value of latitude\n",
            "0    34.02\n",
            "Name: latitude, dtype: float64\n",
            "\n",
            "Mode Value of housing_median_age\n",
            "0    52.0\n",
            "Name: housing_median_age, dtype: float64\n",
            "\n",
            "Mode Value of total_rooms\n",
            "0     907.0\n",
            "1    1778.0\n",
            "2    1787.0\n",
            "3    1966.0\n",
            "Name: total_rooms, dtype: float64\n",
            "\n",
            "Mode Value of total_bedrooms\n",
            "0    314.0\n",
            "Name: total_bedrooms, dtype: float64\n",
            "\n",
            "Mode Value of population\n",
            "0    870.0\n",
            "Name: population, dtype: float64\n",
            "\n",
            "Mode Value of households\n",
            "0    273.0\n",
            "1    375.0\n",
            "2    614.0\n",
            "Name: households, dtype: float64\n",
            "\n",
            "Mode Value of median_income\n",
            "0    15.0001\n",
            "Name: median_income, dtype: float64\n",
            "\n",
            "Mode Value of median_house_value\n",
            "0    500001.0\n",
            "Name: median_house_value, dtype: float64\n"
          ]
        }
      ]
    },
    {
      "cell_type": "code",
      "source": [
        "print(\"Variance Value of longitude\")\n",
        "print(np.var(d['longitude']))\n",
        "print(\"\")\n",
        "print(\"Variance Value of latitude\")\n",
        "print(np.var(d['latitude']))\n",
        "print(\"\")\n",
        "print(\"Variance Value of housing_median_age\")\n",
        "print(np.var(d['housing_median_age']))\n",
        "print(\"\")\n",
        "print(\"Variance Value of total_rooms\")\n",
        "print(np.var(d['total_rooms']))\n",
        "print(\"\")\n",
        "print(\"Variance Value of total_bedrooms\")\n",
        "print(np.var(d['total_bedrooms']))\n",
        "print(\"\")\n",
        "print(\"Variance Value of population\")\n",
        "print(np.var(d['population']))\n",
        "print(\"\")\n",
        "print(\"Variance Value of households\")\n",
        "print(np.var(d['households']))\n",
        "print(\"\")\n",
        "print(\"Variance Value of median_income\")\n",
        "print(np.var(d['median_income']))\n",
        "print(\"\")\n",
        "print(\"Variance Value of median_house_value\")\n",
        "print(np.var(d['median_house_value']))"
      ],
      "metadata": {
        "colab": {
          "base_uri": "https://localhost:8080/"
        },
        "id": "nsyjKt5WPC5D",
        "outputId": "f80dfe9f-825d-4fe0-c5b1-715ef796b002"
      },
      "execution_count": null,
      "outputs": [
        {
          "output_type": "stream",
          "name": "stdout",
          "text": [
            "Variance Value of longitude\n",
            "3.9784442266666673\n",
            "\n",
            "Variance Value of latitude\n",
            "4.5339804479\n",
            "\n",
            "Variance Value of housing_median_age\n",
            "157.58541155555554\n",
            "\n",
            "Variance Value of total_rooms\n",
            "4645033.750478223\n",
            "\n",
            "Variance Value of total_bedrooms\n",
            "172710.9642328889\n",
            "\n",
            "Variance Value of population\n",
            "1061664.8941315555\n",
            "\n",
            "Variance Value of households\n",
            "133489.24558933332\n",
            "\n",
            "Variance Value of median_income\n",
            "3.4380673509780935\n",
            "\n",
            "Variance Value of median_house_value\n",
            "12791798338.666039\n"
          ]
        }
      ]
    },
    {
      "cell_type": "code",
      "source": [
        "print(\"Standard Deviation Value of longitude\")\n",
        "print(np.std(d['longitude']))\n",
        "print(\"\")\n",
        "print(\"Standard Deviation Value of latitude\")\n",
        "print(np.std(d['latitude']))\n",
        "print(\"\")\n",
        "print(\"Standard Deviation Value of housing_median_age\")\n",
        "print(np.std(d['housing_median_age']))\n",
        "print(\"\")\n",
        "print(\"Standard Deviation Value of total_rooms\")\n",
        "print(np.std(d['total_rooms']))\n",
        "print(\"\")\n",
        "print(\"Standard Deviation Value of total_bedrooms\")\n",
        "print(np.std(d['total_bedrooms']))\n",
        "print(\"\")\n",
        "print(\"Standard Deviation Value of population\")\n",
        "print(np.std(d['population']))\n",
        "print(\"\")\n",
        "print(\"Standard Deviation Value of households\")\n",
        "print(np.std(d['households']))\n",
        "print(\"\")\n",
        "print(\"Standard Deviation Value of median_income\")\n",
        "print(np.std(d['median_income']))\n",
        "print(\"\")\n",
        "print(\"Standard Deviation Value of median_house_value\")\n",
        "print(np.std(d['median_house_value']))\n"
      ],
      "metadata": {
        "colab": {
          "base_uri": "https://localhost:8080/"
        },
        "id": "cc1WoFioPLAh",
        "outputId": "d307d907-92d2-48ca-ef8a-f0bb2e90f542"
      },
      "execution_count": null,
      "outputs": [
        {
          "output_type": "stream",
          "name": "stdout",
          "text": [
            "Standard Deviation Value of longitude\n",
            "1.9946037768606244\n",
            "\n",
            "Standard Deviation Value of latitude\n",
            "2.1293145488396026\n",
            "\n",
            "Standard Deviation Value of housing_median_age\n",
            "12.553302814620363\n",
            "\n",
            "Standard Deviation Value of total_rooms\n",
            "2155.2340361265233\n",
            "\n",
            "Standard Deviation Value of total_bedrooms\n",
            "415.58508663436044\n",
            "\n",
            "Standard Deviation Value of population\n",
            "1030.3712409280238\n",
            "\n",
            "Standard Deviation Value of households\n",
            "365.3618009443972\n",
            "\n",
            "Standard Deviation Value of median_income\n",
            "1.854202618641796\n",
            "\n",
            "Standard Deviation Value of median_house_value\n",
            "113100.83261703266\n"
          ]
        }
      ]
    },
    {
      "cell_type": "code",
      "source": [
        "print(\"Range value of longitude\")\n",
        "print(np.max(d['longitude'])-np.min(d['longitude']))\n",
        "print(\"\")\n",
        "print(\"Range value of latitude\")\n",
        "print(np.max(d['latitude'])-np.min(d['latitude']))\n",
        "print(\"\")\n",
        "print(\"Range value of housing_median_age\")\n",
        "print(np.max(d['housing_median_age'])-np.min(d['housing_median_age']))\n",
        "print(\"\")\n",
        "print(\"Range value of total_rooms\")\n",
        "print(np.max(d['total_rooms'])-np.min(d['total_rooms']))\n",
        "print(\"\")\n",
        "print(\"Range value of total_bedrooms\")\n",
        "print(np.max(d['total_bedrooms'])-np.min(d['total_bedrooms']))\n",
        "print(\"\")\n",
        "print(\"Range value of population\")\n",
        "print(np.max(d['population'])-np.min(d['population']))\n",
        "print(\"\")\n",
        "print(\"Range value of households\")\n",
        "print(np.max(d['households'])-np.min(d['households']))\n",
        "print(\"\")\n",
        "print(\"Range value of median_income\")\n",
        "print(np.max(d['median_income'])-np.min(d['median_income']))\n",
        "print(\"\")\n",
        "print(\"Range value of median_house_value\")\n",
        "print(np.max(d['median_house_value'])-np.min(d['median_house_value']))"
      ],
      "metadata": {
        "colab": {
          "base_uri": "https://localhost:8080/"
        },
        "id": "zYpWZ60VPQx7",
        "outputId": "604551f7-293b-4516-9a28-5c87c645d5fc"
      },
      "execution_count": null,
      "outputs": [
        {
          "output_type": "stream",
          "name": "stdout",
          "text": [
            "Range value of longitude\n",
            "9.690000000000012\n",
            "\n",
            "Range value of latitude\n",
            "9.36\n",
            "\n",
            "Range value of housing_median_age\n",
            "51.0\n",
            "\n",
            "Range value of total_rooms\n",
            "30444.0\n",
            "\n",
            "Range value of total_bedrooms\n",
            "5417.0\n",
            "\n",
            "Range value of population\n",
            "11930.0\n",
            "\n",
            "Range value of households\n",
            "4928.0\n",
            "\n",
            "Range value of median_income\n",
            "14.5002\n",
            "\n",
            "Range value of median_house_value\n",
            "477501.0\n"
          ]
        }
      ]
    },
    {
      "cell_type": "code",
      "source": [
        "print(\"IQR value of longitude\")\n",
        "iqr_longitude = iqr(d['longitude'])\n",
        "print(iqr_longitude)\n",
        "print(\"\")\n",
        "print(\"IQR value of latitude\")\n",
        "iqr_latitude = iqr(d['latitude'])\n",
        "print(iqr_latitude)\n",
        "print(\"\")\n",
        "print(\"IQR value of housing_median_age\")\n",
        "iqr_housing_median_age= iqr(d['housing_median_age'])\n",
        "print(iqr_housing_median_age)\n",
        "print(\"\")\n",
        "print(\"IQR value of total_rooms\")\n",
        "iqr_total_rooms = iqr(d['total_rooms'])\n",
        "print(iqr_total_rooms)\n",
        "print(\"\")\n",
        "print(\"IQR value of total_bedrooms\")\n",
        "iqr_total_bedrooms = iqr(d['total_bedrooms'])\n",
        "print(iqr_total_bedrooms)\n",
        "print(\"\")\n",
        "print(\"IQR value of population\")\n",
        "iqr_population = iqr(d['population'])\n",
        "print(iqr_population)\n",
        "print(\"\")\n",
        "print(\"IQR value of households\")\n",
        "iqr_households = iqr(d['households'])\n",
        "print(iqr_households)\n",
        "print(\"\")\n",
        "print(\"IQR value of median_income\")\n",
        "iqr_median_income = iqr(d['median_income'])\n",
        "print(iqr_median_income)\n",
        "print(\"\")\n",
        "print(\"IQR value of median_house_value\")\n",
        "iqr_median_house_value = iqr(d['median_house_value'])\n",
        "print(iqr_median_house_value)"
      ],
      "metadata": {
        "colab": {
          "base_uri": "https://localhost:8080/"
        },
        "id": "0ctzV366PWL_",
        "outputId": "9ba01920-bd9b-46c4-8175-52f8c10bf0d1"
      },
      "execution_count": null,
      "outputs": [
        {
          "output_type": "stream",
          "name": "stdout",
          "text": [
            "IQR value of longitude\n",
            "3.7900000000000063\n",
            "\n",
            "IQR value of latitude\n",
            "3.759999999999998\n",
            "\n",
            "IQR value of housing_median_age\n",
            "19.0\n",
            "\n",
            "IQR value of total_rooms\n",
            "1728.0\n",
            "\n",
            "IQR value of total_bedrooms\n",
            "345.0\n",
            "\n",
            "IQR value of population\n",
            "962.75\n",
            "\n",
            "IQR value of households\n",
            "324.25\n",
            "\n",
            "IQR value of median_income\n",
            "2.112475\n",
            "\n",
            "IQR value of median_house_value\n",
            "142775.0\n"
          ]
        }
      ]
    },
    {
      "cell_type": "code",
      "source": [
        "print(\"Skewness value of longitude\")\n",
        "skewness_longitude = skew(d['longitude'],axis=0,bias=True)\n",
        "print(skewness_longitude)\n",
        "print(\"\")\n",
        "print(\"Skewness value of latitude\")\n",
        "skewness_latitude = skew(d['latitude'],axis=0,bias=True)\n",
        "print(skewness_latitude)\n",
        "print(\"\")\n",
        "print(\"skewness value of housing_median_age\")\n",
        "skewness_housing_median_age = skew(d['housing_median_age'],axis=0,bias=True)\n",
        "print(skewness_housing_median_age)\n",
        "print(\"\")\n",
        "print(\"skewness value of total_rooms\")\n",
        "skewness_total_rooms = skew(d['total_rooms'],axis=0,bias=True)\n",
        "print(skewness_total_rooms)\n",
        "print(\"\")\n",
        "print(\"skewness value of total_bedrooms\")\n",
        "skewness_total_bedrooms = skew(d['total_bedrooms'],axis=0,bias=True)\n",
        "print(skewness_total_bedrooms)\n",
        "print(\"\")\n",
        "print(\"skewness value of population\")\n",
        "skewness_population = skew(d['population'],axis=0,bias=True)\n",
        "print(skewness_population)\n",
        "print(\"\")\n",
        "print(\"skewness value of households\")\n",
        "skewness_households = skew(d['households'],axis=0,bias=True)\n",
        "print(skewness_households)\n",
        "print(\"\")\n",
        "print(\"skewness value of median_income\")\n",
        "skewness_median_income = skew(d['median_income'],axis=0,bias=True)\n",
        "print(skewness_median_income)\n",
        "print(\"\")\n",
        "print(\"skewness value of median_house_value\")\n",
        "skewness_median_house_value = skew(d['median_house_value'],axis=0,bias=True)\n",
        "print(skewness_median_house_value)"
      ],
      "metadata": {
        "colab": {
          "base_uri": "https://localhost:8080/"
        },
        "id": "bhC_1zRPPc06",
        "outputId": "80933ab7-b2f9-4f30-f23a-b011c659b1a1"
      },
      "execution_count": null,
      "outputs": [
        {
          "output_type": "stream",
          "name": "stdout",
          "text": [
            "Skewness value of longitude\n",
            "-0.29770868312210047\n",
            "\n",
            "Skewness value of latitude\n",
            "0.45958599688301055\n",
            "\n",
            "skewness value of housing_median_age\n",
            "0.01850386331347812\n",
            "\n",
            "skewness value of total_rooms\n",
            "4.165553250335494\n",
            "\n",
            "skewness value of total_bedrooms\n",
            "3.861461224097534\n",
            "\n",
            "skewness value of population\n",
            "2.9481956505974214\n",
            "\n",
            "skewness value of households\n",
            "3.5579732876776733\n",
            "\n",
            "skewness value of median_income\n",
            "1.697662360984838\n",
            "\n",
            "skewness value of median_house_value\n",
            "0.9890670635093471\n"
          ]
        }
      ]
    },
    {
      "cell_type": "code",
      "source": [
        "print(\"Kurtosis value of longitude\")\n",
        "longitude = kurtosis(d['longitude'],axis=0,bias=True)\n",
        "print(longitude)\n",
        "print(\"\")\n",
        "print(\"Kurtosis value of latitude\")\n",
        "latitude = kurtosis(d['latitude'],axis=0,bias=True)\n",
        "print(latitude)\n",
        "print(\"\")\n",
        "print(\"Kurtosis value of housing_median_age\")\n",
        "housing_median_age = kurtosis(d['housing_median_age'],axis=0,bias=True)\n",
        "print(housing_median_age)\n",
        "print(\"\")\n",
        "print(\"Kurtosis value of total_rooms\")\n",
        "total_rooms = kurtosis(d['total_rooms'],axis=0,bias=True)\n",
        "print(total_rooms)\n",
        "print(\"\")\n",
        "print(\"Kurtosis value of total_bedrooms\")\n",
        "total_bedrooms = kurtosis(d['total_bedrooms'],axis=0,bias=True)\n",
        "print(total_bedrooms)\n",
        "print(\"\")\n",
        "print(\"Kurtosis value of population\")\n",
        "population = kurtosis(d['population'],axis=0,bias=True)\n",
        "print(population)\n",
        "print(\"\")\n",
        "print(\"Kurtosis value of households\")\n",
        "households = kurtosis(d['households'],axis=0,bias=True)\n",
        "print(households)\n",
        "print(\"\")\n",
        "print(\"Kurtosis value of median_income\")\n",
        "median_income = kurtosis(d['median_income'],axis=0,bias=True)\n",
        "print(median_income)\n",
        "print(\"\")\n",
        "print(\"Kurtosis value of median_house_value\")\n",
        "median_house_value = kurtosis(d['median_house_value'],axis=0,bias=True)\n",
        "print(median_house_value)"
      ],
      "metadata": {
        "id": "f_BlIYd7Pi0s",
        "outputId": "ad3dcc0e-6a12-48ca-fb73-44d68e5728a3",
        "colab": {
          "base_uri": "https://localhost:8080/"
        }
      },
      "execution_count": null,
      "outputs": [
        {
          "output_type": "stream",
          "name": "stdout",
          "text": [
            "Kurtosis value of longitude\n",
            "-1.3625007669256197\n",
            "\n",
            "Kurtosis value of latitude\n",
            "-1.1244987241902247\n",
            "\n",
            "Kurtosis value of housing_median_age\n",
            "-0.8044440474433037\n",
            "\n",
            "Kurtosis value of total_rooms\n",
            "32.044466669077906\n",
            "\n",
            "Kurtosis value of total_bedrooms\n",
            "28.48753189248459\n",
            "\n",
            "Kurtosis value of population\n",
            "16.41387618265221\n",
            "\n",
            "Kurtosis value of households\n",
            "26.18366680809118\n",
            "\n",
            "Kurtosis value of median_income\n",
            "5.614812216724314\n",
            "\n",
            "Kurtosis value of median_house_value\n",
            "0.3927409720063544\n"
          ]
        }
      ]
    }
  ]
}